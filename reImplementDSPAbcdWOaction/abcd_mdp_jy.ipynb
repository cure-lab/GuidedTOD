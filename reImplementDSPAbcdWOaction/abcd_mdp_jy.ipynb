{
 "cells": [
  {
   "cell_type": "code",
   "execution_count": 1,
   "metadata": {},
   "outputs": [
    {
     "name": "stdout",
     "output_type": "stream",
     "text": [
      "dict_keys(['sample_id', 'target', 'input', 'input_w_possible_actions', 'input_w_possible_actions_plus', 'target_data'])\n"
     ]
    }
   ],
   "source": [
    "import json\n",
    "\n",
    "data = []\n",
    "\n",
    "with open(\"/research/d1/gds/jyzhong/computation_models/LLMFramework/data/processed/train_workflow_discovery_abcd_80.json\", \"r\") as f:\n",
    "    for line in f:\n",
    "        data.append(json.loads(line))\n",
    "\n",
    "# Now, let's see the first JSON object\n",
    "print(data[0].keys())\n"
   ]
  },
  {
   "cell_type": "code",
   "execution_count": 33,
   "metadata": {},
   "outputs": [],
   "source": [
    "with open(\"/research/d1/gds/jyzhong/computation_models/workflow-discovery/data/raw/guidelines.json\", \"r\") as f:\n",
    "    guildline = json.load(f)\n",
    "\n",
    "guildline_flows = []\n",
    "\n",
    "for key, value in guildline.items():\n",
    "    for key, flow in value['subflows'].items():\n",
    "        extracted_flow = ['init']\n",
    "        for action in flow['actions']:\n",
    "            action = action['button'].lower().strip().replace(' ', '-')\n",
    "            extracted_flow.append(action)\n",
    "        guildline_flows.append(extracted_flow)\n",
    "        "
   ]
  },
  {
   "cell_type": "code",
   "execution_count": 34,
   "metadata": {},
   "outputs": [
    {
     "data": {
      "text/plain": [
       "['init',\n",
       " 'pull-up-account',\n",
       " 'validate-purchase',\n",
       " 'record-reason',\n",
       " 'enter-details',\n",
       " 'offer-refund']"
      ]
     },
     "execution_count": 34,
     "metadata": {},
     "output_type": "execute_result"
    }
   ],
   "source": [
    "guildline_flows[0]"
   ]
  },
  {
   "cell_type": "code",
   "execution_count": 35,
   "metadata": {},
   "outputs": [],
   "source": [
    "data_mdp = []\n",
    "\n",
    "for example in data:\n",
    "    action_graphs = example['target'].split(';')\n",
    "    action_graphs = [a.split('[')[0].strip().replace(' ', '-') for a in action_graphs]\n",
    "    action_graphs = [\"init\"] + action_graphs\n",
    "    data_mdp.append(action_graphs)"
   ]
  },
  {
   "cell_type": "code",
   "execution_count": 36,
   "metadata": {},
   "outputs": [
    {
     "data": {
      "text/plain": [
       "['init',\n",
       " 'search-faq',\n",
       " 'search-for-jeans',\n",
       " 'search-for-jacket',\n",
       " 'select-topic-in-faq']"
      ]
     },
     "execution_count": 36,
     "metadata": {},
     "output_type": "execute_result"
    }
   ],
   "source": [
    "data_mdp[0]"
   ]
  },
  {
   "cell_type": "code",
   "execution_count": 37,
   "metadata": {},
   "outputs": [
    {
     "name": "stdout",
     "output_type": "stream",
     "text": [
      "PTA Construction Time:  0.0\n",
      "Alergia Learning Time: 0.11\n",
      "Alergia Learned 58 state automaton.\n",
      "Visualization started in the background thread.\n",
      "Visualizing 58 state automaton could take some time.\n"
     ]
    },
    {
     "name": "stdout",
     "output_type": "stream",
     "text": [
      "Model saved to mdp_guildline_1P.pdf.\n"
     ]
    }
   ],
   "source": [
    "from aalpy.learning_algs import run_Alergia\n",
    "\n",
    "data_mdp = guildline_flows + data_mdp\n",
    "data_mdp[:10]\n",
    "\n",
    "model = run_Alergia(data_mdp, 'mc', print_info=True)\n",
    "model.visualize(path='mdp_guildline_1P.pdf')\n",
    "model.save('mdp_guildline_1P.dot')"
   ]
  },
  {
   "cell_type": "code",
   "execution_count": 51,
   "metadata": {},
   "outputs": [
    {
     "name": "stdout",
     "output_type": "stream",
     "text": [
      "()\n",
      "init\n",
      "('ask-costumer-log-out-log-in',)\n",
      "ask-costumer-log-out-log-in\n",
      "('ask-costumer-to-try-again',)\n",
      "ask-costumer-to-try-again\n",
      "('check-membership-level',)\n",
      "check-membership-level\n",
      "('log-out/in',)\n",
      "log-out/in\n",
      "('notify-internal-team',)\n",
      "notify-internal-team\n",
      "('notify-team',)\n",
      "notify-team\n",
      "('pull-up-account',)\n",
      "pull-up-account\n",
      "('pull-up-the-costumer-account',)\n",
      "pull-up-the-costumer-account\n",
      "('search-faq',)\n",
      "search-faq\n",
      "('try-again',)\n",
      "try-again\n",
      "('ask-costumer-log-out-log-in', 'check-instructions')\n",
      "check-instructions\n",
      "('ask-costumer-to-try-again', 'enter-details')\n",
      "enter-details\n",
      "('log-out/in', 'instructions')\n",
      "instructions\n",
      "('pull-up-account', 'ask-the-oracle')\n",
      "ask-the-oracle\n",
      "('pull-up-account', 'n/a')\n",
      "n/a\n",
      "('pull-up-account', 'record-reason')\n",
      "record-reason\n",
      "('pull-up-account', 'shipping-status')\n",
      "shipping-status\n",
      "('pull-up-account', 'validate-purchase')\n",
      "validate-purchase\n",
      "('pull-up-account', 'verify-identity')\n",
      "verify-identity\n",
      "('pull-up-the-costumer-account', 'ask-oracle')\n",
      "ask-oracle\n",
      "('pull-up-the-costumer-account', 'get-shipping-status')\n",
      "get-shipping-status\n",
      "('pull-up-the-costumer-account', 'get-subscription-status')\n",
      "get-subscription-status\n",
      "('pull-up-the-costumer-account', 'offer-promo-code')\n",
      "offer-promo-code\n",
      "('pull-up-the-costumer-account', 'verify-costumer-identity')\n",
      "verify-costumer-identity\n",
      "('search-faq', 'boots')\n",
      "boots\n",
      "('search-faq', 'check-policy')\n",
      "check-policy\n",
      "('search-faq', 'check-pricing')\n",
      "check-pricing\n",
      "('search-faq', 'get-memberships-information')\n",
      "get-memberships-information\n",
      "('search-faq', 'jacket')\n",
      "jacket\n",
      "('search-faq', 'jeans')\n",
      "jeans\n",
      "('search-faq', 'membership')\n",
      "membership\n",
      "('search-faq', 'policy')\n",
      "policy\n",
      "('search-faq', 'pricing')\n",
      "pricing\n",
      "('search-faq', 'search-for-boots')\n",
      "search-for-boots\n",
      "('search-faq', 'search-for-jacket')\n",
      "search-for-jacket\n",
      "('search-faq', 'search-for-jeans')\n",
      "search-for-jeans\n",
      "('search-faq', 'search-for-shirt')\n",
      "search-for-shirt\n",
      "('search-faq', 'search-timing')\n",
      "search-timing\n",
      "('search-faq', 'shirt')\n",
      "shirt\n",
      "('search-faq', 'timing')\n",
      "timing\n",
      "('pull-up-account', 'ask-the-oracle', 'send-link')\n",
      "send-link\n",
      "('pull-up-account', 'validate-purchase', 'membership-privileges')\n",
      "membership-privileges\n",
      "('pull-up-account', 'verify-identity', 'enter-detail')\n",
      "enter-detail\n",
      "('pull-up-account', 'verify-identity', 'subscription-status')\n",
      "subscription-status\n",
      "('pull-up-the-costumer-account', 'ask-oracle', 'send-link-to-costumer')\n",
      "send-link-to-costumer\n",
      "('pull-up-the-costumer-account', 'validate-purchase', 'update-order-information')\n",
      "update-order-information\n",
      "('search-faq', 'boots', 'select-answer')\n",
      "select-answer\n",
      "('search-faq', 'check-policy', 'select-topic-in-faq')\n",
      "select-topic-in-faq\n",
      "('pull-up-account', 'enter-details', 'n/a', 'make-password')\n",
      "make-password\n",
      "('pull-up-account', 'notify-internal-team', 'n/a', 'promo-code')\n",
      "promo-code\n",
      "('pull-up-account', 'record-reason', 'notify-internal-team', 'make-purchase')\n",
      "make-purchase\n",
      "('pull-up-account', 'record-reason', 'verify-identity', 'update-account')\n",
      "update-account\n",
      "('pull-up-account', 'shipping-status', 'validate-purchase', 'update-order')\n",
      "update-order\n",
      "('pull-up-account', 'validate-purchase', 'membership-privileges', 'end-conversation')\n",
      "end-conversation\n",
      "('pull-up-account', 'validate-purchase', 'record-reason', 'offer-refund')\n",
      "offer-refund\n",
      "('pull-up-the-costumer-account', 'record-reason', 'ask-oracle', 'update-costumer-account')\n",
      "update-costumer-account\n",
      "('ask-costumer-to-try-again', 'enter-details', 'ask-costumer-log-out-log-in', 'pull-up-the-costumer-account', 'create-new-password')\n",
      "create-new-password\n"
     ]
    }
   ],
   "source": [
    "for s in model.states:\n",
    "    print(s.prefix)\n",
    "    # print(s.transitions)\n",
    "    print(s.output)"
   ]
  },
  {
   "cell_type": "code",
   "execution_count": 1,
   "metadata": {},
   "outputs": [],
   "source": [
    "import re\n",
    "\n",
    "target = \"pull-up-account [david williams];verify-identity [david williams,<zip code>, <zip code>\"\n",
    "\n",
    "def parse_ast_prediction(prediction_str):\n",
    "    match = re.match(r\"(.*)\\[(.*)]\", prediction_str)\n",
    "    if match:\n",
    "        # action w/ value\n",
    "        action_name = match.group(1).strip()\n",
    "        slot_str = match.group(2)\n",
    "        slot_str = slot_str.replace(\";\", \",\")\n",
    "        slots = [s.strip() for s in slot_str.split(\",\")]\n",
    "        '''\n",
    "        added by xiangyu\n",
    "        '''\n",
    "        for i in range(len(slots)):\n",
    "            if slots[i].endswith(\">\") and not slots[i].startswith(\"<\"):\n",
    "                # add \"<\" to the beginning of the slot\n",
    "                slots[i] = \"<\" + slots[i]\n",
    "            if slots[i].startswith(\"<\") and not slots[i].endswith(\">\"):\n",
    "                # add \">\" to the end of the slot\n",
    "                slots[i] = slots[i] + \">\"\n",
    "    else:\n",
    "        action_name = \"MISSING\"\n",
    "        slots = [\"MISSING\"]\n",
    "\n",
    "    return action_name, slots\n",
    "\n",
    "action_name, slots = parse_ast_prediction(target)"
   ]
  },
  {
   "cell_type": "code",
   "execution_count": 2,
   "metadata": {},
   "outputs": [
    {
     "name": "stdout",
     "output_type": "stream",
     "text": [
      "pull-up-account\n",
      "['david williams']\n"
     ]
    }
   ],
   "source": [
    "print(action_name)\n",
    "print(slots)"
   ]
  },
  {
   "cell_type": "code",
   "execution_count": null,
   "metadata": {},
   "outputs": [],
   "source": []
  }
 ],
 "metadata": {
  "kernelspec": {
   "display_name": "comp-model",
   "language": "python",
   "name": "python3"
  },
  "language_info": {
   "codemirror_mode": {
    "name": "ipython",
    "version": 3
   },
   "file_extension": ".py",
   "mimetype": "text/x-python",
   "name": "python",
   "nbconvert_exporter": "python",
   "pygments_lexer": "ipython3",
   "version": "3.11.5"
  }
 },
 "nbformat": 4,
 "nbformat_minor": 2
}
