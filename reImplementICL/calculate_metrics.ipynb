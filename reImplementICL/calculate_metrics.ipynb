{
 "cells": [
  {
   "cell_type": "code",
   "execution_count": 1,
   "metadata": {},
   "outputs": [
    {
     "name": "stdout",
     "output_type": "stream",
     "text": [
      "/research/d5/gds/xywen22/project/llm_framework/guidedTOD\n"
     ]
    },
    {
     "name": "stderr",
     "output_type": "stream",
     "text": [
      "/research/d5/gds/xywen22/anaconda3/envs/chainPrior/lib/python3.10/site-packages/tqdm/auto.py:21: TqdmWarning: IProgress not found. Please update jupyter and ipywidgets. See https://ipywidgets.readthedocs.io/en/stable/user_install.html\n",
      "  from .autonotebook import tqdm as notebook_tqdm\n"
     ]
    }
   ],
   "source": [
    "import sys\n",
    "import os\n",
    "print(os.getcwd())\n",
    "# 将当前目录添加到 Python 的模块搜索路径\n",
    "os.chdir('/research/d5/gds/xywen22/project/llm_framework/guidedTOD/reImplementICL')\n",
    "import argparse\n",
    "import jsonlines\n",
    "from openai import OpenAI\n",
    "import json\n",
    "from metrics import compute_ast_acc_metrics_multiwoz_dialogueLevel, compute_ast_acc_metrics_abcd_dialogueLevel\n",
    "from tqdm import tqdm\n",
    "import time\n"
   ]
  },
  {
   "cell_type": "markdown",
   "metadata": {},
   "source": [
    "#### For multiwoz"
   ]
  },
  {
   "cell_type": "code",
   "execution_count": 11,
   "metadata": {},
   "outputs": [
    {
     "name": "stdout",
     "output_type": "stream",
     "text": [
      "len(predictions):  500\n",
      "len(labels):  500\n",
      "len(sequence_scores):  500\n",
      "Warning: Loaded automaton is not input complete.\n",
      "not_in_counter: 0, total number of predictions: 500\n",
      "{\n",
      "    \"EM_action\": 0.6188,\n",
      "    \"EM_value\": 0.302,\n",
      "    \"EM_joint\": 0.25,\n",
      "    \"CE_joint\": 0.271,\n",
      "    \"CE_action\": 0.6456,\n",
      "    \"CE_value\": 0.3249,\n",
      "    \"step_success_rate\": 0.2946,\n",
      "    \"dialogue_success_rate\": 0.25\n",
      "}\n"
     ]
    }
   ],
   "source": [
    "\n",
    "test_data = []\n",
    "convo_ids = []\n",
    "turn_counts = []\n",
    "contexts = []\n",
    "labels = []\n",
    "flows = []\n",
    "predictions = []\n",
    "\n",
    "# test_file = \"responses/multiwoz_woaction_gpt-3.5-turbo_Trial1.json\"\n",
    "test_file = \"responses/multiwoz_woaction_gpt-4_Trial1.json\"\n",
    "# test_file = \"responses/multiwoz_woaction_gpt-4-turbo_Trial1.json\"\n",
    "\n",
    "with jsonlines.open(test_file) as reader:\n",
    "    for sample in reader:\n",
    "        convo_ids.append(sample[\"convo_id\"])\n",
    "        turn_counts.append(sample[\"turn_id\"])\n",
    "        contexts.append(sample[\"input\"])\n",
    "        labels.append(sample[\"target\"])\n",
    "        predictions.append(sample[\"pred_action\"])\n",
    "\n",
    "sequence_scores = [1 for _ in range(len(predictions))]\n",
    "results = compute_ast_acc_metrics_multiwoz_dialogueLevel(predictions, labels, convo_ids, turn_counts, sequence_scores=sequence_scores, num_beams=1)\n",
    "\n",
    "print(json.dumps(results, indent=4))"
   ]
  },
  {
   "cell_type": "markdown",
   "metadata": {},
   "source": [
    "#### For ABCD"
   ]
  },
  {
   "cell_type": "code",
   "execution_count": 10,
   "metadata": {},
   "outputs": [
    {
     "name": "stdout",
     "output_type": "stream",
     "text": [
      "len(predictions):  3608\n",
      "len(labels):  3608\n",
      "len(sequence_scores):  3608\n",
      "Warning: Loaded automaton is not input complete.\n",
      "Warning: Loaded automaton is not input complete.\n",
      "Warning: Loaded automaton is not input complete.\n",
      "Warning: Loaded automaton is not input complete.\n",
      "Warning: Loaded automaton is not input complete.\n",
      "Warning: Loaded automaton is not input complete.\n",
      "Warning: Loaded automaton is not input complete.\n",
      "Warning: Loaded automaton is not input complete.\n",
      "Warning: Loaded automaton is not input complete.\n",
      "('init', 'search-account')\n",
      "('init', 'search-availability')\n",
      "('search-faq', 'search-availability')\n",
      "('select-faq', 'Goodbye!')\n",
      "('init', 'search-account')\n",
      "('init', 'search-availability')\n",
      "('pull-up-account', 'search-availability')\n",
      "('init', 'search-subscription')\n",
      "('init', 'search-location')\n",
      "('search-faq', 'search-location')\n",
      "('search-timing', 'search-location')\n",
      "('search-policy', 'search-location')\n",
      "('init', 'search-availability')\n",
      "('search-faq', 'search-availability')\n",
      "('search-shirt', 'search-availability')\n",
      "not_in_counter: 0, total number of predictions: 3608\n",
      "{\n",
      "    \"EM_action\": 0.0329,\n",
      "    \"EM_value\": 0.0916,\n",
      "    \"EM_joint\": 0.0199,\n",
      "    \"CE_joint\": 0.0846,\n",
      "    \"CE_action\": 0.1473,\n",
      "    \"CE_value\": 0.2112,\n",
      "    \"step_success_rate\": 0.1825,\n",
      "    \"dialogue_success_rate\": 0.0199\n",
      "}\n"
     ]
    }
   ],
   "source": [
    "\n",
    "test_data = []\n",
    "convo_ids = []\n",
    "turn_counts = []\n",
    "contexts = []\n",
    "labels = []\n",
    "flows = []\n",
    "predictions = []\n",
    "\n",
    "# test_file = \"responses/abcd_woactionGPT4Trial1.json\"\n",
    "# test_file = \"responses/abcd_woactionGPT4TurboTrial1.json\"\n",
    "test_file = \"responses/abcd_woactionGPT3.5Trial2.json\"\n",
    "# test_file = \"responses/abcd_woactionGPT3.5Trial1.json\"\n",
    "\n",
    "with jsonlines.open(test_file) as reader:\n",
    "    for sample in reader:\n",
    "        convo_ids.append(sample[\"convo_id\"])\n",
    "        turn_counts.append(sample[\"turn_id\"])\n",
    "        contexts.append(sample[\"input\"])\n",
    "        labels.append(sample[\"target\"])\n",
    "        predictions.append(sample[\"pred_action\"])\n",
    "\n",
    "sequence_scores = [1 for _ in range(len(predictions))]\n",
    "results = compute_ast_acc_metrics_abcd_dialogueLevel(predictions, labels, convo_ids, turn_counts, sequence_scores=sequence_scores, num_beams=1)\n",
    "\n",
    "print(json.dumps(results, indent=4))"
   ]
  }
 ],
 "metadata": {
  "kernelspec": {
   "display_name": "chainPrior",
   "language": "python",
   "name": "python3"
  },
  "language_info": {
   "codemirror_mode": {
    "name": "ipython",
    "version": 3
   },
   "file_extension": ".py",
   "mimetype": "text/x-python",
   "name": "python",
   "nbconvert_exporter": "python",
   "pygments_lexer": "ipython3",
   "version": "3.10.14"
  }
 },
 "nbformat": 4,
 "nbformat_minor": 2
}
