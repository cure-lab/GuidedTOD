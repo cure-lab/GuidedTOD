{
 "cells": [
  {
   "cell_type": "code",
   "execution_count": 1,
   "metadata": {},
   "outputs": [
    {
     "name": "stderr",
     "output_type": "stream",
     "text": [
      "/research/d5/gds/xywen22/anaconda3/envs/chainPrior/lib/python3.10/site-packages/tqdm/auto.py:21: TqdmWarning: IProgress not found. Please update jupyter and ipywidgets. See https://ipywidgets.readthedocs.io/en/stable/user_install.html\n",
      "  from .autonotebook import tqdm as notebook_tqdm\n"
     ]
    }
   ],
   "source": [
    "import argparse\n",
    "import os\n",
    "import jsonlines\n",
    "from openai import OpenAI\n",
    "import json\n",
    "from metrics import compute_ast_acc_metrics_multiwoz\n",
    "from tqdm import tqdm\n",
    "import time\n"
   ]
  },
  {
   "cell_type": "code",
   "execution_count": 3,
   "metadata": {},
   "outputs": [
    {
     "name": "stdout",
     "output_type": "stream",
     "text": [
      "len(predictions):  2784\n",
      "len(labels):  2784\n",
      "len(sequence_scores):  2784\n",
      "Warning: Loaded automaton is not input complete.\n",
      "not_in_counter: 0, total number of predictions: 2784\n",
      "{\n",
      "    \"EM_action\": 0.465,\n",
      "    \"EM_value\": 0.043,\n",
      "    \"EM_joint\": 0.028,\n",
      "    \"CE_joint\": 0.0625,\n",
      "    \"CE_action\": 0.4735,\n",
      "    \"CE_value\": 0.0798\n",
      "}\n"
     ]
    }
   ],
   "source": [
    "\n",
    "test_data = []\n",
    "convo_ids = []\n",
    "turn_counts = []\n",
    "contexts = []\n",
    "labels = []\n",
    "flows = []\n",
    "predictions = []\n",
    "\n",
    "test_file = \"responses/multiwoz_woaction_gpt-4-turbo_Trial1.json\"\n",
    "with jsonlines.open(test_file) as reader:\n",
    "    for sample in reader:\n",
    "        convo_ids.append(sample[\"convo_id\"])\n",
    "        turn_counts.append(sample[\"turn_id\"])\n",
    "        contexts.append(sample[\"input\"])\n",
    "        labels.append(sample[\"target\"])\n",
    "        predictions.append(sample[\"pred_action\"])\n",
    "\n",
    "sequence_scores = [1 for _ in range(len(predictions))]\n",
    "results = compute_ast_acc_metrics_multiwoz(predictions, labels, convo_ids, turn_counts, sequence_scores=sequence_scores, num_beams=1)\n",
    "\n",
    "print(json.dumps(results, indent=4))"
   ]
  }
 ],
 "metadata": {
  "kernelspec": {
   "display_name": "chainPrior",
   "language": "python",
   "name": "python3"
  },
  "language_info": {
   "codemirror_mode": {
    "name": "ipython",
    "version": 3
   },
   "file_extension": ".py",
   "mimetype": "text/x-python",
   "name": "python",
   "nbconvert_exporter": "python",
   "pygments_lexer": "ipython3",
   "version": "3.10.14"
  }
 },
 "nbformat": 4,
 "nbformat_minor": 2
}
