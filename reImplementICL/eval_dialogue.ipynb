{
 "cells": [
  {
   "cell_type": "code",
   "execution_count": 5,
   "metadata": {},
   "outputs": [
    {
     "name": "stderr",
     "output_type": "stream",
     "text": [
      "Some weights of RobertaModel were not initialized from the model checkpoint at roberta-large and are newly initialized: ['roberta.pooler.dense.bias', 'roberta.pooler.dense.weight']\n",
      "You should probably TRAIN this model on a down-stream task to be able to use it for predictions and inference.\n"
     ]
    },
    {
     "name": "stdout",
     "output_type": "stream",
     "text": [
      "calculating scores...\n",
      "computing bert embedding.\n"
     ]
    },
    {
     "name": "stderr",
     "output_type": "stream",
     "text": [
      "100%|██████████| 68/68 [00:04<00:00, 14.09it/s]\n"
     ]
    },
    {
     "name": "stdout",
     "output_type": "stream",
     "text": [
      "computing greedy matching.\n"
     ]
    },
    {
     "name": "stderr",
     "output_type": "stream",
     "text": [
      "100%|██████████| 44/44 [00:00<00:00, 117.84it/s]"
     ]
    },
    {
     "name": "stdout",
     "output_type": "stream",
     "text": [
      "done in 5.23 seconds, 532.34 sentences/sec\n"
     ]
    },
    {
     "name": "stderr",
     "output_type": "stream",
     "text": [
      "\n"
     ]
    }
   ],
   "source": [
    "import sacrebleu\n",
    "from rouge import Rouge\n",
    "from bert_score import score\n",
    "import json\n",
    "\n",
    "def calculate_bert_score(dialogues):\n",
    "    references = []\n",
    "    candidates = []\n",
    "    for dialogue in dialogues:\n",
    "        references.append(dialogue[\"label_utterance\"])\n",
    "        candidates.append(dialogue[\"pred_utterance\"])\n",
    "\n",
    "    P, R, F1 = score(candidates, references, lang='en', verbose=True, rescale_with_baseline=True)\n",
    "    # mean P, R, F1\n",
    "    P = P.mean().item()\n",
    "    R = R.mean().item()\n",
    "    F1 = F1.mean().item()\n",
    "    return P, R, F1\n",
    "\n",
    "def calculate_BLEU_Score(dialogues):\n",
    "    references = []\n",
    "    candidates = []\n",
    "    for dialogue in dialogues:\n",
    "        references.append(dialogue[\"label_utterance\"])\n",
    "        candidates.append(dialogue[\"pred_utterance\"])\n",
    "\n",
    "    return sacrebleu.corpus_bleu(candidates, [references]).score\n",
    "\n",
    "\n",
    "def calculate_rouge_scores(dialogues):\n",
    "    hypothesis = []\n",
    "    reference = []\n",
    "    for dialogue in dialogues:\n",
    "        hypothesis.append(dialogue[\"pred_utterance\"])\n",
    "        reference.append(dialogue[\"label_utterance\"])\n",
    "    \n",
    "    rouge = Rouge()\n",
    "\n",
    "    scores = rouge.get_scores(hypothesis, reference, avg=True)\n",
    "    return scores \n",
    "\n",
    "with open(\"/research/d5/gds/xywen22/project/llm_framework/reImplementMultistepWozWOaction/dialogues/multiwozmultiASTWOActionAllTrial2.json\", \"r\") as r:\n",
    "    dialogues = [json.loads(line) for line in r]\n",
    "\n",
    "dialog_BLEU = calculate_BLEU_Score(dialogues)\n",
    "dialog_ROUGE = calculate_rouge_scores(dialogues)\n",
    "dialog_BERT = calculate_bert_score(dialogues)"
   ]
  },
  {
   "cell_type": "code",
   "execution_count": 6,
   "metadata": {},
   "outputs": [
    {
     "name": "stdout",
     "output_type": "stream",
     "text": [
      "dialog_BLEU:  22.527060027036132\n",
      "dialog_ROUGE:  {'rouge-1': {'r': 0.5932056269293235, 'p': 0.4211619418142693, 'f': 0.4787012645659908}, 'rouge-2': {'r': 0.4152225517286199, 'p': 0.2954818988227976, 'f': 0.3340821965711294}, 'rouge-l': {'r': 0.5751012319288514, 'p': 0.4098142246962402, 'f': 0.46508792096475476}}\n",
      "dialog_BERT:  (0.4609164893627167, 0.574589729309082, 0.5165223479270935)\n"
     ]
    }
   ],
   "source": [
    "print(\"dialog_BLEU: \", dialog_BLEU)\n",
    "print(\"dialog_ROUGE: \", dialog_ROUGE)\n",
    "print(\"dialog_BERT: \", dialog_BERT)"
   ]
  },
  {
   "cell_type": "code",
   "execution_count": null,
   "metadata": {},
   "outputs": [],
   "source": [
    "'''\n",
    "dialog_BLEU:  0.6122821503865296\n",
    "dialog_ROUGE:  {'rouge-1': {'r': 0.16851587301587298, 'p': 0.06309809007293622, 'f': 0.08786207706084463}, 'rouge-2': {'r': 0.026555555555555554, 'p': 0.007242070477196334, 'f': 0.010955777178062023}, 'rouge-l': {'r': 0.15362698412698403, 'p': 0.05770404941573766, 'f': 0.0802271028245546}}\n",
    "dialog_BERT:  (tensor([0.8295, 0.8478, 0.8036, 0.8254, 0.8398, 0.8411, 0.8241, 0.8294, 0.8504,\n",
    "        0.8602, 0.8308, 0.8472, 0.8366, 0.8490, 0.8224, 0.8406, 0.8175, 0.8025,\n",
    "        0.8282, 0.8406, 0.8321, 0.8075, 0.8360, 0.8153, 0.8258, 0.8248, 0.8314,\n",
    "        0.8650, 0.7890, 0.8166, 0.8175, 0.7992, 0.8154, 0.8327, 0.8505, 0.8288,\n",
    "        0.8278, 0.8261, 0.8228, 0.8768, 0.8196, 0.7798, 0.8394, 0.8461, 0.8167,\n",
    "        0.8704, 0.8328, 0.8117, 0.8078, 0.8129, 0.7982, 0.8124, 0.8299, 0.8071,\n",
    "        0.9225, 0.8163, 0.7616, 0.8110, 0.8356, 0.8555, 0.8156, 0.8235, 0.8138,\n",
    "        0.8602, 0.8062, 0.8387, 0.8261, 0.8409, 0.8401, 0.8041, 0.8427, 0.8343,\n",
    "        0.8233, 0.8115, 0.8258, 0.8349, 0.8291, 0.8485, 0.8065, 0.8300, 0.8416,\n",
    "        0.8158, 0.7933, 0.8107, 0.8177, 0.8150, 0.8092, 0.8438, 0.8679, 0.8318,\n",
    "        0.8566, 0.8124, 0.8295, 0.7854, 0.7797, 0.8130, 0.8132, 0.8932, 0.8113,\n",
    "        0.8561]), tensor([0.8157, 0.8582, 0.8030, 0.8380, 0.8399, 0.8211, 0.8161, 0.8343, 0.8365,\n",
    "        0.8502, 0.8002, 0.8354, 0.8205, 0.8386, 0.8148, 0.8523, 0.8122, 0.8135,\n",
    "        0.8307, 0.9475, 0.8064, 0.8259, 0.8750, 0.8178, 0.8477, 0.8514, 0.8245,\n",
    "        0.8460, 0.8227, 0.8205, 0.8097, 0.8196, 0.8245, 0.8939, 0.8335, 0.8164,\n",
    "        0.8303, 0.8418, 0.8207, 0.9143, 0.8164, 0.8234, 0.8236, 0.9356, 0.7739,\n",
    "        0.8624, 0.8177, 0.8105, 0.8313, 0.8314, 0.8091, 0.8372, 0.8194, 0.8097,\n",
    "        0.8331, 0.8304, 0.7880, 0.8103, 0.8311, 0.8981, 0.8121, 0.8180, 0.8212,\n",
    "        0.8515, 0.7684, 0.8373, 0.8215, 0.8380, 0.8511, 0.8066, 0.8427, 0.8283,\n",
    "        0.8206, 0.8208, 0.7957, 0.8676, 0.8237, 0.8243, 0.8302, 0.8302, 0.8730,\n",
    "        0.8048, 0.8252, 0.8516, 0.8159, 0.8255, 0.8146, 0.8305, 0.8900, 0.8042,\n",
    "        0.8890, 0.8106, 0.8354, 0.8033, 0.8086, 0.8095, 0.8145, 0.8976, 0.8179,\n",
    "        0.8120]), tensor([0.8225, 0.8530, 0.8033, 0.8317, 0.8398, 0.8310, 0.8201, 0.8318, 0.8434,\n",
    "        0.8552, 0.8152, 0.8412, 0.8285, 0.8438, 0.8186, 0.8464, 0.8149, 0.8080,\n",
    "        0.8295, 0.8909, 0.8190, 0.8166, 0.8550, 0.8166, 0.8366, 0.8379, 0.8279,\n",
    "        0.8554, 0.8055, 0.8185, 0.8136, 0.8093, 0.8199, 0.8622, 0.8419, 0.8226,\n",
    "        0.8290, 0.8339, 0.8217, 0.8952, 0.8180, 0.8010, 0.8314, 0.8886, 0.7947,\n",
    "        0.8664, 0.8252, 0.8111, 0.8194, 0.8220, 0.8036, 0.8246, 0.8246, 0.8084,\n",
    "        0.8755, 0.8233, 0.7746, 0.8106, 0.8333, 0.8762, 0.8138, 0.8207, 0.8175,\n",
    "        0.8558, 0.7869, 0.8380, 0.8237, 0.8394, 0.8456, 0.8054, 0.8427, 0.8313,\n",
    "        0.8220, 0.8161, 0.8105, 0.8509, 0.8264, 0.8362, 0.8182, 0.8301, 0.8570,\n",
    "        0.8102, 0.8089, 0.8307, 0.8168, 0.8202, 0.8119, 0.8371, 0.8788, 0.8177,\n",
    "        0.8725, 0.8115, 0.8324, 0.7943, 0.7939, 0.8112, 0.8138, 0.8954, 0.8146,\n",
    "        0.8334]))\n",
    "'''"
   ]
  }
 ],
 "metadata": {
  "kernelspec": {
   "display_name": "workflowExtract",
   "language": "python",
   "name": "python3"
  },
  "language_info": {
   "codemirror_mode": {
    "name": "ipython",
    "version": 3
   },
   "file_extension": ".py",
   "mimetype": "text/x-python",
   "name": "python",
   "nbconvert_exporter": "python",
   "pygments_lexer": "ipython3",
   "version": "3.1.undefined"
  }
 },
 "nbformat": 4,
 "nbformat_minor": 2
}
